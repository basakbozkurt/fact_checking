{
  "nbformat": 4,
  "nbformat_minor": 0,
  "metadata": {
    "colab": {
      "provenance": [],
      "authorship_tag": "ABX9TyOFiXwdGgZsKOmIapPCt+0v",
      "include_colab_link": true
    },
    "kernelspec": {
      "name": "python3",
      "display_name": "Python 3"
    },
    "language_info": {
      "name": "python"
    }
  },
  "cells": [
    {
      "cell_type": "markdown",
      "metadata": {
        "id": "view-in-github",
        "colab_type": "text"
      },
      "source": [
        "<a href=\"https://colab.research.google.com/github/basakbozkurt/fact_checking/blob/main/random_sampling_by_verdict.ipynb\" target=\"_parent\"><img src=\"https://colab.research.google.com/assets/colab-badge.svg\" alt=\"Open In Colab\"/></a>"
      ]
    },
    {
      "cell_type": "code",
      "execution_count": 35,
      "metadata": {
        "id": "NOiFF_lAljuF"
      },
      "outputs": [],
      "source": [
        "import json\n",
        "import os\n",
        "import pandas as pd\n",
        "import numpy as np\n"
      ]
    },
    {
      "cell_type": "code",
      "source": [
        "from google.colab import drive\n",
        "drive.mount('/content/drive')\n",
        "\n",
        "file_path = 'drive/MyDrive/Fact-checking-DB/politifact_factcheck_data.json'"
      ],
      "metadata": {
        "colab": {
          "base_uri": "https://localhost:8080/"
        },
        "id": "S_YSkmJkmUZd",
        "outputId": "906a611f-aeae-40a6-df40-77cf9fe9dceb"
      },
      "execution_count": 31,
      "outputs": [
        {
          "output_type": "stream",
          "name": "stdout",
          "text": [
            "Drive already mounted at /content/drive; to attempt to forcibly remount, call drive.mount(\"/content/drive\", force_remount=True).\n"
          ]
        }
      ]
    },
    {
      "cell_type": "code",
      "source": [
        "data = []\n",
        "with open(file_path, 'r') as file:\n",
        "    for line in file:\n",
        "        try:\n",
        "            json_object = json.loads(line)\n",
        "            data.append(json_object)\n",
        "        except json.JSONDecodeError as e:\n",
        "            print(f\"Error decoding JSON: {e}\")\n",
        "\n",
        "print(f\"Total number of claims: {len(data)}\")\n",
        "\n",
        "df = pd.DataFrame(data)\n",
        "\n",
        "\n",
        "distinct_categories = df['verdict'].unique()\n",
        "print(f\"Verdict categories: {distinct_categories}\")\n"
      ],
      "metadata": {
        "colab": {
          "base_uri": "https://localhost:8080/"
        },
        "id": "O8ZBsMdKlpqK",
        "outputId": "76bce8e1-b538-40cd-a593-98f8965d5b51"
      },
      "execution_count": 32,
      "outputs": [
        {
          "output_type": "stream",
          "name": "stdout",
          "text": [
            "Total number of claims: 21152\n",
            "Verdict categories: ['true' 'false' 'mostly-true' 'half-true' 'pants-fire' 'mostly-false']\n"
          ]
        }
      ]
    },
    {
      "cell_type": "code",
      "source": [
        "column_names = df.columns.tolist()\n",
        "print(f\"Column names: {column_names}\")"
      ],
      "metadata": {
        "colab": {
          "base_uri": "https://localhost:8080/"
        },
        "id": "FcTD9SJGoI_g",
        "outputId": "9bd80f90-5569-401d-a63a-25125c1b4d68"
      },
      "execution_count": 33,
      "outputs": [
        {
          "output_type": "stream",
          "name": "stdout",
          "text": [
            "Column names: ['verdict', 'statement_originator', 'statement', 'statement_date', 'statement_source', 'factchecker', 'factcheck_date', 'factcheck_analysis_link']\n"
          ]
        }
      ]
    },
    {
      "cell_type": "markdown",
      "source": [
        "Randomly select 1,000 statements from each verdict type and create a subset:"
      ],
      "metadata": {
        "id": "4-S2vgYrpVQ4"
      }
    },
    {
      "cell_type": "code",
      "source": [
        "np.random.seed(0)\n",
        "sampled_df = df.groupby('verdict').apply(lambda x: x.sample(1000)).reset_index(drop=True)"
      ],
      "metadata": {
        "id": "0mFBTSaRpgG6"
      },
      "execution_count": 36,
      "outputs": []
    },
    {
      "cell_type": "code",
      "source": [
        "sampled_df.head()"
      ],
      "metadata": {
        "colab": {
          "base_uri": "https://localhost:8080/",
          "height": 206
        },
        "id": "auBDRUe6qVc4",
        "outputId": "763f36c1-8e41-4c11-f87d-16f436fc537f"
      },
      "execution_count": 44,
      "outputs": [
        {
          "output_type": "execute_result",
          "data": {
            "text/plain": [
              "  verdict statement_originator  \\\n",
              "0   false         Donald Trump   \n",
              "1   false             Bloggers   \n",
              "2   false       Facebook posts   \n",
              "3   false   The Gateway Pundit   \n",
              "4   false       Facebook posts   \n",
              "\n",
              "                                           statement statement_date  \\\n",
              "0  With a late-term abortion, \"the mother meets w...      4/27/2019   \n",
              "1  Says Sen. John McCain was \"caught making highl...       2/3/2017   \n",
              "2  Says video of body bags being dumped in a ditc...      3/27/2020   \n",
              "3  \"Per the CDC, there are nearly twice as many v...      3/29/2021   \n",
              "4  Former President George W. Bush and former Vic...      7/16/2014   \n",
              "\n",
              "  statement_source     factchecker factcheck_date  \\\n",
              "0           speech   Jon Greenberg      4/29/2019   \n",
              "1             news   Joshua Gillin      2/21/2017   \n",
              "2     social_media   Bill McCarthy      4/13/2020   \n",
              "3     social_media   Tom Kertscher       4/6/2021   \n",
              "4     social_media  Louis Jacobson      7/17/2014   \n",
              "\n",
              "                             factcheck_analysis_link  \n",
              "0  https://www.politifact.com/factchecks/2019/apr...  \n",
              "1  https://www.politifact.com/factchecks/2017/feb...  \n",
              "2  https://www.politifact.com/factchecks/2020/apr...  \n",
              "3  https://www.politifact.com/factchecks/2021/apr...  \n",
              "4  https://www.politifact.com/factchecks/2014/jul...  "
            ],
            "text/html": [
              "\n",
              "  <div id=\"df-faf2ebc0-3270-4c62-943e-e72fffc44486\" class=\"colab-df-container\">\n",
              "    <div>\n",
              "<style scoped>\n",
              "    .dataframe tbody tr th:only-of-type {\n",
              "        vertical-align: middle;\n",
              "    }\n",
              "\n",
              "    .dataframe tbody tr th {\n",
              "        vertical-align: top;\n",
              "    }\n",
              "\n",
              "    .dataframe thead th {\n",
              "        text-align: right;\n",
              "    }\n",
              "</style>\n",
              "<table border=\"1\" class=\"dataframe\">\n",
              "  <thead>\n",
              "    <tr style=\"text-align: right;\">\n",
              "      <th></th>\n",
              "      <th>verdict</th>\n",
              "      <th>statement_originator</th>\n",
              "      <th>statement</th>\n",
              "      <th>statement_date</th>\n",
              "      <th>statement_source</th>\n",
              "      <th>factchecker</th>\n",
              "      <th>factcheck_date</th>\n",
              "      <th>factcheck_analysis_link</th>\n",
              "    </tr>\n",
              "  </thead>\n",
              "  <tbody>\n",
              "    <tr>\n",
              "      <th>0</th>\n",
              "      <td>false</td>\n",
              "      <td>Donald Trump</td>\n",
              "      <td>With a late-term abortion, \"the mother meets w...</td>\n",
              "      <td>4/27/2019</td>\n",
              "      <td>speech</td>\n",
              "      <td>Jon Greenberg</td>\n",
              "      <td>4/29/2019</td>\n",
              "      <td>https://www.politifact.com/factchecks/2019/apr...</td>\n",
              "    </tr>\n",
              "    <tr>\n",
              "      <th>1</th>\n",
              "      <td>false</td>\n",
              "      <td>Bloggers</td>\n",
              "      <td>Says Sen. John McCain was \"caught making highl...</td>\n",
              "      <td>2/3/2017</td>\n",
              "      <td>news</td>\n",
              "      <td>Joshua Gillin</td>\n",
              "      <td>2/21/2017</td>\n",
              "      <td>https://www.politifact.com/factchecks/2017/feb...</td>\n",
              "    </tr>\n",
              "    <tr>\n",
              "      <th>2</th>\n",
              "      <td>false</td>\n",
              "      <td>Facebook posts</td>\n",
              "      <td>Says video of body bags being dumped in a ditc...</td>\n",
              "      <td>3/27/2020</td>\n",
              "      <td>social_media</td>\n",
              "      <td>Bill McCarthy</td>\n",
              "      <td>4/13/2020</td>\n",
              "      <td>https://www.politifact.com/factchecks/2020/apr...</td>\n",
              "    </tr>\n",
              "    <tr>\n",
              "      <th>3</th>\n",
              "      <td>false</td>\n",
              "      <td>The Gateway Pundit</td>\n",
              "      <td>\"Per the CDC, there are nearly twice as many v...</td>\n",
              "      <td>3/29/2021</td>\n",
              "      <td>social_media</td>\n",
              "      <td>Tom Kertscher</td>\n",
              "      <td>4/6/2021</td>\n",
              "      <td>https://www.politifact.com/factchecks/2021/apr...</td>\n",
              "    </tr>\n",
              "    <tr>\n",
              "      <th>4</th>\n",
              "      <td>false</td>\n",
              "      <td>Facebook posts</td>\n",
              "      <td>Former President George W. Bush and former Vic...</td>\n",
              "      <td>7/16/2014</td>\n",
              "      <td>social_media</td>\n",
              "      <td>Louis Jacobson</td>\n",
              "      <td>7/17/2014</td>\n",
              "      <td>https://www.politifact.com/factchecks/2014/jul...</td>\n",
              "    </tr>\n",
              "  </tbody>\n",
              "</table>\n",
              "</div>\n",
              "    <div class=\"colab-df-buttons\">\n",
              "\n",
              "  <div class=\"colab-df-container\">\n",
              "    <button class=\"colab-df-convert\" onclick=\"convertToInteractive('df-faf2ebc0-3270-4c62-943e-e72fffc44486')\"\n",
              "            title=\"Convert this dataframe to an interactive table.\"\n",
              "            style=\"display:none;\">\n",
              "\n",
              "  <svg xmlns=\"http://www.w3.org/2000/svg\" height=\"24px\" viewBox=\"0 -960 960 960\">\n",
              "    <path d=\"M120-120v-720h720v720H120Zm60-500h600v-160H180v160Zm220 220h160v-160H400v160Zm0 220h160v-160H400v160ZM180-400h160v-160H180v160Zm440 0h160v-160H620v160ZM180-180h160v-160H180v160Zm440 0h160v-160H620v160Z\"/>\n",
              "  </svg>\n",
              "    </button>\n",
              "\n",
              "  <style>\n",
              "    .colab-df-container {\n",
              "      display:flex;\n",
              "      gap: 12px;\n",
              "    }\n",
              "\n",
              "    .colab-df-convert {\n",
              "      background-color: #E8F0FE;\n",
              "      border: none;\n",
              "      border-radius: 50%;\n",
              "      cursor: pointer;\n",
              "      display: none;\n",
              "      fill: #1967D2;\n",
              "      height: 32px;\n",
              "      padding: 0 0 0 0;\n",
              "      width: 32px;\n",
              "    }\n",
              "\n",
              "    .colab-df-convert:hover {\n",
              "      background-color: #E2EBFA;\n",
              "      box-shadow: 0px 1px 2px rgba(60, 64, 67, 0.3), 0px 1px 3px 1px rgba(60, 64, 67, 0.15);\n",
              "      fill: #174EA6;\n",
              "    }\n",
              "\n",
              "    .colab-df-buttons div {\n",
              "      margin-bottom: 4px;\n",
              "    }\n",
              "\n",
              "    [theme=dark] .colab-df-convert {\n",
              "      background-color: #3B4455;\n",
              "      fill: #D2E3FC;\n",
              "    }\n",
              "\n",
              "    [theme=dark] .colab-df-convert:hover {\n",
              "      background-color: #434B5C;\n",
              "      box-shadow: 0px 1px 3px 1px rgba(0, 0, 0, 0.15);\n",
              "      filter: drop-shadow(0px 1px 2px rgba(0, 0, 0, 0.3));\n",
              "      fill: #FFFFFF;\n",
              "    }\n",
              "  </style>\n",
              "\n",
              "    <script>\n",
              "      const buttonEl =\n",
              "        document.querySelector('#df-faf2ebc0-3270-4c62-943e-e72fffc44486 button.colab-df-convert');\n",
              "      buttonEl.style.display =\n",
              "        google.colab.kernel.accessAllowed ? 'block' : 'none';\n",
              "\n",
              "      async function convertToInteractive(key) {\n",
              "        const element = document.querySelector('#df-faf2ebc0-3270-4c62-943e-e72fffc44486');\n",
              "        const dataTable =\n",
              "          await google.colab.kernel.invokeFunction('convertToInteractive',\n",
              "                                                    [key], {});\n",
              "        if (!dataTable) return;\n",
              "\n",
              "        const docLinkHtml = 'Like what you see? Visit the ' +\n",
              "          '<a target=\"_blank\" href=https://colab.research.google.com/notebooks/data_table.ipynb>data table notebook</a>'\n",
              "          + ' to learn more about interactive tables.';\n",
              "        element.innerHTML = '';\n",
              "        dataTable['output_type'] = 'display_data';\n",
              "        await google.colab.output.renderOutput(dataTable, element);\n",
              "        const docLink = document.createElement('div');\n",
              "        docLink.innerHTML = docLinkHtml;\n",
              "        element.appendChild(docLink);\n",
              "      }\n",
              "    </script>\n",
              "  </div>\n",
              "\n",
              "\n",
              "<div id=\"df-f2cc518f-2516-4ca8-adf8-a90145af88f1\">\n",
              "  <button class=\"colab-df-quickchart\" onclick=\"quickchart('df-f2cc518f-2516-4ca8-adf8-a90145af88f1')\"\n",
              "            title=\"Suggest charts\"\n",
              "            style=\"display:none;\">\n",
              "\n",
              "<svg xmlns=\"http://www.w3.org/2000/svg\" height=\"24px\"viewBox=\"0 0 24 24\"\n",
              "     width=\"24px\">\n",
              "    <g>\n",
              "        <path d=\"M19 3H5c-1.1 0-2 .9-2 2v14c0 1.1.9 2 2 2h14c1.1 0 2-.9 2-2V5c0-1.1-.9-2-2-2zM9 17H7v-7h2v7zm4 0h-2V7h2v10zm4 0h-2v-4h2v4z\"/>\n",
              "    </g>\n",
              "</svg>\n",
              "  </button>\n",
              "\n",
              "<style>\n",
              "  .colab-df-quickchart {\n",
              "      --bg-color: #E8F0FE;\n",
              "      --fill-color: #1967D2;\n",
              "      --hover-bg-color: #E2EBFA;\n",
              "      --hover-fill-color: #174EA6;\n",
              "      --disabled-fill-color: #AAA;\n",
              "      --disabled-bg-color: #DDD;\n",
              "  }\n",
              "\n",
              "  [theme=dark] .colab-df-quickchart {\n",
              "      --bg-color: #3B4455;\n",
              "      --fill-color: #D2E3FC;\n",
              "      --hover-bg-color: #434B5C;\n",
              "      --hover-fill-color: #FFFFFF;\n",
              "      --disabled-bg-color: #3B4455;\n",
              "      --disabled-fill-color: #666;\n",
              "  }\n",
              "\n",
              "  .colab-df-quickchart {\n",
              "    background-color: var(--bg-color);\n",
              "    border: none;\n",
              "    border-radius: 50%;\n",
              "    cursor: pointer;\n",
              "    display: none;\n",
              "    fill: var(--fill-color);\n",
              "    height: 32px;\n",
              "    padding: 0;\n",
              "    width: 32px;\n",
              "  }\n",
              "\n",
              "  .colab-df-quickchart:hover {\n",
              "    background-color: var(--hover-bg-color);\n",
              "    box-shadow: 0 1px 2px rgba(60, 64, 67, 0.3), 0 1px 3px 1px rgba(60, 64, 67, 0.15);\n",
              "    fill: var(--button-hover-fill-color);\n",
              "  }\n",
              "\n",
              "  .colab-df-quickchart-complete:disabled,\n",
              "  .colab-df-quickchart-complete:disabled:hover {\n",
              "    background-color: var(--disabled-bg-color);\n",
              "    fill: var(--disabled-fill-color);\n",
              "    box-shadow: none;\n",
              "  }\n",
              "\n",
              "  .colab-df-spinner {\n",
              "    border: 2px solid var(--fill-color);\n",
              "    border-color: transparent;\n",
              "    border-bottom-color: var(--fill-color);\n",
              "    animation:\n",
              "      spin 1s steps(1) infinite;\n",
              "  }\n",
              "\n",
              "  @keyframes spin {\n",
              "    0% {\n",
              "      border-color: transparent;\n",
              "      border-bottom-color: var(--fill-color);\n",
              "      border-left-color: var(--fill-color);\n",
              "    }\n",
              "    20% {\n",
              "      border-color: transparent;\n",
              "      border-left-color: var(--fill-color);\n",
              "      border-top-color: var(--fill-color);\n",
              "    }\n",
              "    30% {\n",
              "      border-color: transparent;\n",
              "      border-left-color: var(--fill-color);\n",
              "      border-top-color: var(--fill-color);\n",
              "      border-right-color: var(--fill-color);\n",
              "    }\n",
              "    40% {\n",
              "      border-color: transparent;\n",
              "      border-right-color: var(--fill-color);\n",
              "      border-top-color: var(--fill-color);\n",
              "    }\n",
              "    60% {\n",
              "      border-color: transparent;\n",
              "      border-right-color: var(--fill-color);\n",
              "    }\n",
              "    80% {\n",
              "      border-color: transparent;\n",
              "      border-right-color: var(--fill-color);\n",
              "      border-bottom-color: var(--fill-color);\n",
              "    }\n",
              "    90% {\n",
              "      border-color: transparent;\n",
              "      border-bottom-color: var(--fill-color);\n",
              "    }\n",
              "  }\n",
              "</style>\n",
              "\n",
              "  <script>\n",
              "    async function quickchart(key) {\n",
              "      const quickchartButtonEl =\n",
              "        document.querySelector('#' + key + ' button');\n",
              "      quickchartButtonEl.disabled = true;  // To prevent multiple clicks.\n",
              "      quickchartButtonEl.classList.add('colab-df-spinner');\n",
              "      try {\n",
              "        const charts = await google.colab.kernel.invokeFunction(\n",
              "            'suggestCharts', [key], {});\n",
              "      } catch (error) {\n",
              "        console.error('Error during call to suggestCharts:', error);\n",
              "      }\n",
              "      quickchartButtonEl.classList.remove('colab-df-spinner');\n",
              "      quickchartButtonEl.classList.add('colab-df-quickchart-complete');\n",
              "    }\n",
              "    (() => {\n",
              "      let quickchartButtonEl =\n",
              "        document.querySelector('#df-f2cc518f-2516-4ca8-adf8-a90145af88f1 button');\n",
              "      quickchartButtonEl.style.display =\n",
              "        google.colab.kernel.accessAllowed ? 'block' : 'none';\n",
              "    })();\n",
              "  </script>\n",
              "</div>\n",
              "\n",
              "    </div>\n",
              "  </div>\n"
            ],
            "application/vnd.google.colaboratory.intrinsic+json": {
              "type": "dataframe",
              "variable_name": "sampled_df",
              "summary": "{\n  \"name\": \"sampled_df\",\n  \"rows\": 6000,\n  \"fields\": [\n    {\n      \"column\": \"verdict\",\n      \"properties\": {\n        \"dtype\": \"category\",\n        \"num_unique_values\": 6,\n        \"samples\": [\n          \"false\",\n          \"half-true\",\n          \"true\"\n        ],\n        \"semantic_type\": \"\",\n        \"description\": \"\"\n      }\n    },\n    {\n      \"column\": \"statement_originator\",\n      \"properties\": {\n        \"dtype\": \"category\",\n        \"num_unique_values\": 2012,\n        \"samples\": [\n          \"Tim Knopp\",\n          \"Diamond and Silk\",\n          \"RightMarch.com\"\n        ],\n        \"semantic_type\": \"\",\n        \"description\": \"\"\n      }\n    },\n    {\n      \"column\": \"statement\",\n      \"properties\": {\n        \"dtype\": \"string\",\n        \"num_unique_values\": 6000,\n        \"samples\": [\n          \"\\\"George LeMieux voted against the majority of Republicans and joined with Democrats to create a 'Task Force For Responsible Fiscal Action' that looks strikingly similar to the 'Super Committee' now being set up in Washington to justify massive tax hikes.\\\"\",\n          \"A gas tax holiday \\\"would at best provide 30 cents a day for three months for a grand total of $28.\\\"\",\n          \"Several times, Obama \\\"has apologized for what he deems to be American arrogance, dismissiveness, and derision; for dictating solutions, for acting unilaterally ... .\\\"\"\n        ],\n        \"semantic_type\": \"\",\n        \"description\": \"\"\n      }\n    },\n    {\n      \"column\": \"statement_date\",\n      \"properties\": {\n        \"dtype\": \"object\",\n        \"num_unique_values\": 3190,\n        \"samples\": [\n          \"9/15/2010\",\n          \"6/25/2014\",\n          \"7/16/2017\"\n        ],\n        \"semantic_type\": \"\",\n        \"description\": \"\"\n      }\n    },\n    {\n      \"column\": \"statement_source\",\n      \"properties\": {\n        \"dtype\": \"category\",\n        \"num_unique_values\": 13,\n        \"samples\": [\n          \"television\",\n          \"radio\",\n          \"speech\"\n        ],\n        \"semantic_type\": \"\",\n        \"description\": \"\"\n      }\n    },\n    {\n      \"column\": \"factchecker\",\n      \"properties\": {\n        \"dtype\": \"category\",\n        \"num_unique_values\": 382,\n        \"samples\": [\n          \"Jacqueline Tempera\",\n          \"Bradley Saacks\",\n          \"Miranda Blue\"\n        ],\n        \"semantic_type\": \"\",\n        \"description\": \"\"\n      }\n    },\n    {\n      \"column\": \"factcheck_date\",\n      \"properties\": {\n        \"dtype\": \"object\",\n        \"num_unique_values\": 3129,\n        \"samples\": [\n          \"10/31/2017\",\n          \"3/21/2022\",\n          \"3/30/2020\"\n        ],\n        \"semantic_type\": \"\",\n        \"description\": \"\"\n      }\n    },\n    {\n      \"column\": \"factcheck_analysis_link\",\n      \"properties\": {\n        \"dtype\": \"string\",\n        \"num_unique_values\": 6000,\n        \"samples\": [\n          \"https://www.politifact.com/factchecks/2011/aug/10/adam-hasner/adam-hasner-says-george-lemieux-voted-against-his-/\",\n          \"https://www.politifact.com/factchecks/2008/may/06/barack-obama/obamas-per-car-number-is-reasonable/\",\n          \"https://www.politifact.com/factchecks/2010/mar/15/mitt-romney/obama-remarks-never-true-apology/\"\n        ],\n        \"semantic_type\": \"\",\n        \"description\": \"\"\n      }\n    }\n  ]\n}"
            }
          },
          "metadata": {},
          "execution_count": 44
        }
      ]
    },
    {
      "cell_type": "code",
      "source": [
        "verdict_counts = sampled_df['verdict'].value_counts().reset_index()\n",
        "verdict_counts.columns = ['verdict', 'count']\n",
        "print(verdict_counts)"
      ],
      "metadata": {
        "id": "ENlTwHc_q0uQ"
      },
      "execution_count": null,
      "outputs": []
    }
  ]
}